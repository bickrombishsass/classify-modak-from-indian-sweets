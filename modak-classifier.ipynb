{
 "cells": [
  {
   "cell_type": "markdown",
   "metadata": {},
   "source": [
    " Importing necessary libraries. And Setting the dataset path."
   ]
  },
  {
   "cell_type": "code",
   "execution_count": 1,
   "metadata": {},
   "outputs": [],
   "source": [
    "import numpy as np\n",
    "import matplotlib.pyplot as plt\n",
    "import os\n",
    "import cv2\n",
    "from tqdm import tqdm\n",
    "\n",
    "DATADIR = \"\\modak-classifier\"\n",
    "\n",
    "CATEGORIES = [\"modak-image\", \"non-modak-image\"]\n",
    "     "
   ]
  },
  {
   "cell_type": "markdown",
   "metadata": {},
   "source": [
    " Converting images to array."
   ]
  },
  {
   "cell_type": "code",
   "execution_count": 2,
   "metadata": {},
   "outputs": [],
   "source": [
    "for category in CATEGORIES:\n",
    "    path = os.path.join(DATADIR,category) \n",
    "    for img in os.listdir(path): \n",
    "        img_array = cv2.imread(os.path.join(path,img) ,cv2.IMREAD_GRAYSCALE)   "
   ]
  },
  {
   "cell_type": "code",
   "execution_count": 3,
   "metadata": {},
   "outputs": [
    {
     "name": "stdout",
     "output_type": "stream",
     "text": [
      "[[225 227 230 ... 181 180 179]\n",
      " [224 226 230 ... 181 180 179]\n",
      " [223 225 229 ... 181 180 179]\n",
      " ...\n",
      " [179 178 177 ... 165 169 167]\n",
      " [183 181 177 ... 166 170 168]\n",
      " [178 179 179 ... 166 169 171]]\n"
     ]
    }
   ],
   "source": [
    "print(img_array)"
   ]
  },
  {
   "cell_type": "code",
   "execution_count": 4,
   "metadata": {},
   "outputs": [
    {
     "name": "stdout",
     "output_type": "stream",
     "text": [
      "(193, 261)\n"
     ]
    }
   ],
   "source": [
    "print(img_array.shape)"
   ]
  },
  {
   "cell_type": "markdown",
   "metadata": {},
   "source": [
    "Setting all image to a same size."
   ]
  },
  {
   "cell_type": "code",
   "execution_count": 5,
   "metadata": {},
   "outputs": [
    {
     "data": {
      "image/png": "[encoded data removed]",
      "text/plain": [
       "<matplotlib.figure.Figure at 0x1c4df865ba8>"
      ]
     },
     "metadata": {},
     "output_type": "display_data"
    }
   ],
   "source": [
    "IMG_SIZE = 100\n",
    "\n",
    "new_array = cv2.resize(img_array, (IMG_SIZE, IMG_SIZE))\n",
    "plt.imshow(new_array, cmap='gray')\n",
    "plt.show()"
   ]
  },
  {
   "cell_type": "markdown",
   "metadata": {},
   "source": [
    "Making executable training data to fit in the model, with label."
   ]
  },
  {
   "cell_type": "code",
   "execution_count": 6,
   "metadata": {},
   "outputs": [
    {
     "name": "stderr",
     "output_type": "stream",
     "text": [
      "100%|██████████| 50/50 [00:00<00:00, 1362.21it/s]\n",
      "100%|██████████| 50/50 [00:00<00:00, 1193.67it/s]"
     ]
    },
    {
     "name": "stdout",
     "output_type": "stream",
     "text": [
      "100\n"
     ]
    },
    {
     "name": "stderr",
     "output_type": "stream",
     "text": [
      "\n"
     ]
    }
   ],
   "source": [
    "training_data = []\n",
    "\n",
    "def create_training_data():\n",
    "    for category in CATEGORIES:  \n",
    "\n",
    "        path = os.path.join(DATADIR,category)  \n",
    "        class_num = CATEGORIES.index(category)  \n",
    "\n",
    "        for img in tqdm(os.listdir(path)): \n",
    "            try:\n",
    "                img_array = cv2.imread(os.path.join(path,img) ,cv2.IMREAD_GRAYSCALE) \n",
    "                new_array = cv2.resize(img_array, (IMG_SIZE, IMG_SIZE)) \n",
    "                training_data.append([new_array, class_num]) \n",
    "            except Exception as e: \n",
    "                pass\n",
    "create_training_data()\n",
    "\n",
    "print(len(training_data))"
   ]
  },
  {
   "cell_type": "markdown",
   "metadata": {},
   "source": [
    "We suffle the data to get accurate measure. "
   ]
  },
  {
   "cell_type": "code",
   "execution_count": 7,
   "metadata": {},
   "outputs": [],
   "source": [
    "import random\n",
    "\n",
    "random.shuffle(training_data)"
   ]
  },
  {
   "cell_type": "markdown",
   "metadata": {},
   "source": [
    "Print Labels of the suffled data."
   ]
  },
  {
   "cell_type": "code",
   "execution_count": 8,
   "metadata": {},
   "outputs": [
    {
     "name": "stdout",
     "output_type": "stream",
     "text": [
      "0\n",
      "1\n",
      "1\n",
      "0\n",
      "1\n",
      "1\n",
      "0\n",
      "1\n",
      "0\n",
      "1\n"
     ]
    }
   ],
   "source": [
    "for sample in training_data[:10]:\n",
    "    print(sample[1])"
   ]
  },
  {
   "cell_type": "markdown",
   "metadata": {},
   "source": [
    "Set X and y as the training dataset with reshaping the image."
   ]
  },
  {
   "cell_type": "code",
   "execution_count": 9,
   "metadata": {},
   "outputs": [
    {
     "name": "stdout",
     "output_type": "stream",
     "text": [
      "[[[[ 97]\n",
      "   [103]\n",
      "   [108]\n",
      "   ...\n",
      "   [ 78]\n",
      "   [ 75]\n",
      "   [ 72]]\n",
      "\n",
      "  [[ 97]\n",
      "   [104]\n",
      "   [109]\n",
      "   ...\n",
      "   [ 88]\n",
      "   [ 73]\n",
      "   [ 74]]\n",
      "\n",
      "  [[ 98]\n",
      "   [105]\n",
      "   [110]\n",
      "   ...\n",
      "   [138]\n",
      "   [ 78]\n",
      "   [ 71]]\n",
      "\n",
      "  ...\n",
      "\n",
      "  [[106]\n",
      "   [ 81]\n",
      "   [ 48]\n",
      "   ...\n",
      "   [ 23]\n",
      "   [ 25]\n",
      "   [ 26]]\n",
      "\n",
      "  [[ 58]\n",
      "   [106]\n",
      "   [ 91]\n",
      "   ...\n",
      "   [ 25]\n",
      "   [ 27]\n",
      "   [ 27]]\n",
      "\n",
      "  [[ 19]\n",
      "   [ 54]\n",
      "   [ 85]\n",
      "   ...\n",
      "   [ 26]\n",
      "   [ 28]\n",
      "   [ 27]]]]\n"
     ]
    }
   ],
   "source": [
    "X = []\n",
    "y = []\n",
    "\n",
    "for features,label in training_data:\n",
    "    X.append(features)\n",
    "    y.append(label)\n",
    "\n",
    "print(X[0].reshape(-1, IMG_SIZE, IMG_SIZE, 1))\n",
    "\n",
    "X = np.array(X).reshape(-1, IMG_SIZE, IMG_SIZE, 1)\n",
    "y = np.array(y)"
   ]
  },
  {
   "cell_type": "markdown",
   "metadata": {},
   "source": [
    "Importing libraries for real code."
   ]
  },
  {
   "cell_type": "code",
   "execution_count": 10,
   "metadata": {},
   "outputs": [
    {
     "name": "stderr",
     "output_type": "stream",
     "text": [
      "C:\\Users\\lenovo\\New folder\\lib\\site-packages\\h5py\\__init__.py:36: FutureWarning: Conversion of the second argument of issubdtype from `float` to `np.floating` is deprecated. In future, it will be treated as `np.float64 == np.dtype(float).type`.\n",
      "  from ._conv import register_converters as _register_converters\n"
     ]
    }
   ],
   "source": [
    "import tensorflow as tf\n",
    "from tensorflow.keras.datasets import cifar10\n",
    "from tensorflow.keras.preprocessing.image import ImageDataGenerator\n",
    "from tensorflow.keras.models import Sequential\n",
    "from tensorflow.keras.layers import Dense, Dropout, Activation, Flatten\n",
    "from tensorflow.keras.layers import Conv2D, MaxPooling2D"
   ]
  },
  {
   "cell_type": "markdown",
   "metadata": {},
   "source": [
    "Setting the neural network layers. and fitting the data onto it."
   ]
  },
  {
   "cell_type": "code",
   "execution_count": 32,
   "metadata": {},
   "outputs": [
    {
     "name": "stdout",
     "output_type": "stream",
     "text": [
      "Train on 70 samples, validate on 30 samples\n",
      "Epoch 1/10\n",
      "70/70 [==============================] - 8s 107ms/sample - loss: 1890.8364 - accuracy: 0.4714 - val_loss: 225.3082 - val_accuracy: 0.4333\n",
      "Epoch 2/10\n",
      "70/70 [==============================] - 7s 106ms/sample - loss: 159.7972 - accuracy: 0.5286 - val_loss: 25.8832 - val_accuracy: 0.4333\n",
      "Epoch 3/10\n",
      "70/70 [==============================] - 8s 121ms/sample - loss: 9.4984 - accuracy: 0.5857 - val_loss: 0.9648 - val_accuracy: 0.7000\n",
      "Epoch 4/10\n",
      "70/70 [==============================] - 10s 146ms/sample - loss: 0.5927 - accuracy: 0.6286 - val_loss: 0.6690 - val_accuracy: 0.7333\n",
      "Epoch 5/10\n",
      "70/70 [==============================] - 8s 121ms/sample - loss: 0.4828 - accuracy: 0.7429 - val_loss: 0.8429 - val_accuracy: 0.6000\n",
      "Epoch 6/10\n",
      "70/70 [==============================] - 9s 124ms/sample - loss: 0.3512 - accuracy: 0.8571 - val_loss: 0.5821 - val_accuracy: 0.8333\n",
      "Epoch 7/10\n",
      "70/70 [==============================] - 11s 153ms/sample - loss: 0.3648 - accuracy: 0.8286 - val_loss: 0.9331 - val_accuracy: 0.5667\n",
      "Epoch 8/10\n",
      "70/70 [==============================] - 9s 129ms/sample - loss: 0.1930 - accuracy: 0.9143 - val_loss: 0.5871 - val_accuracy: 0.8667\n",
      "Epoch 9/10\n",
      "70/70 [==============================] - 8s 117ms/sample - loss: 0.4458 - accuracy: 0.8571 - val_loss: 1.8150 - val_accuracy: 0.6000\n",
      "Epoch 10/10\n",
      "70/70 [==============================] - 8s 112ms/sample - loss: 0.1874 - accuracy: 0.9000 - val_loss: 1.2157 - val_accuracy: 0.8000\n"
     ]
    },
    {
     "data": {
      "text/plain": [
       "<tensorflow.python.keras.callbacks.History at 0x2aa8a7d7048>"
      ]
     },
     "execution_count": 32,
     "metadata": {},
     "output_type": "execute_result"
    }
   ],
   "source": [
    "model = Sequential()\n",
    "\n",
    "model.add(Conv2D(256, (3, 3), input_shape=X.shape[1:]))\n",
    "model.add(Activation('relu'))\n",
    "model.add(MaxPooling2D(pool_size=(2, 2)))\n",
    "\n",
    "model.add(Conv2D(256, (3, 3)))\n",
    "model.add(Activation('relu'))\n",
    "model.add(MaxPooling2D(pool_size=(2, 2)))\n",
    "\n",
    "model.add(Flatten()) \n",
    "model.add(Dense(64))\n",
    "\n",
    "model.add(Dense(1))\n",
    "model.add(Activation('sigmoid'))\n",
    "\n",
    "model.compile(loss='binary_crossentropy',\n",
    "              optimizer='adam',\n",
    "              metrics=['accuracy'])\n",
    "\n",
    "model.fit(X, y,batch_size=32, epochs=10, validation_split=0.3)"
   ]
  },
  {
   "cell_type": "markdown",
   "metadata": {},
   "source": [
    "It is 90% accurate in 10 epoches."
   ]
  }
 ],
 "metadata": {
  "kernelspec": {
   "display_name": "Python 3",
   "language": "python",
   "name": "python3"
  },
  "language_info": {
   "codemirror_mode": {
    "name": "ipython",
    "version": 3
   },
   "file_extension": ".py",
   "mimetype": "text/x-python",
   "name": "python",
   "nbconvert_exporter": "python",
   "pygments_lexer": "ipython3",
   "version": "3.6.4"
  }
 },
 "nbformat": 4,
 "nbformat_minor": 2
}
